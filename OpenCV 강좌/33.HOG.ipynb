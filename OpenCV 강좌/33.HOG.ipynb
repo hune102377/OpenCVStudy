{
 "cells": [
  {
   "cell_type": "code",
   "execution_count": 4,
   "metadata": {},
   "outputs": [
    {
     "name": "stdout",
     "output_type": "stream",
     "text": [
      "Toggle Space-bar to change mode.\n"
     ]
    }
   ],
   "source": [
    "# HOG-SVM 보행자 검출 (svm_hog_pedestrian.py)\n",
    "\n",
    "import cv2\n",
    "\n",
    "# default 디덱터를 위한 HOG 객체 생성 및 설정--- ①\n",
    "hogdef = cv2.HOGDescriptor()\n",
    "hogdef.setSVMDetector(cv2.HOGDescriptor_getDefaultPeopleDetector())\n",
    "\n",
    "# dailer 디덱터를 위한 HOG 객체 생성 및 설정--- ②\n",
    "hogdaim  = cv2.HOGDescriptor((48,96), (16,16), (8,8), (8,8), 9)\n",
    "hogdaim.setSVMDetector(cv2.HOGDescriptor_getDaimlerPeopleDetector())\n",
    "\n",
    "cap = cv2.VideoCapture('./asset/mov/02.mp4')\n",
    "mode = True  # 모드 변환을 위한 플래그 변수 \n",
    "print('Toggle Space-bar to change mode.')\n",
    "while cap.isOpened():\n",
    "    ret, img = cap.read()\n",
    "    if ret :\n",
    "        if mode:\n",
    "            # default 디텍터로 보행자 검출 --- ③\n",
    "            found, _ = hogdef.detectMultiScale(img)\n",
    "            for (x,y,w,h) in found:\n",
    "                cv2.rectangle(img, (x,y), (x+w, y+h), (0,255,255))\n",
    "        else:\n",
    "            # daimler 디텍터로 보행자 검출 --- ④\n",
    "            found, _ = hogdaim.detectMultiScale(img)\n",
    "            for (x,y,w,h) in found:\n",
    "                cv2.rectangle(img, (x,y), (x+w, y+h), (0,255,0))\n",
    "        cv2.putText(img, 'Detector:%s'%('Default' if mode else 'Daimler'), \\\n",
    "                        (10,50 ), cv2.FONT_HERSHEY_DUPLEX,1, (0,255,0),1)\n",
    "        cv2.imshow('frame', img)\n",
    "        key = cv2.waitKey(1) \n",
    "        if key == 27:\n",
    "            break\n",
    "        elif key == ord(' '):\n",
    "            mode = not mode\n",
    "    else:\n",
    "        break\n",
    "cap.release()\n",
    "cv2.destroyAllWindows()"
   ]
  }
 ],
 "metadata": {
  "kernelspec": {
   "display_name": "Python 3.9.12 ('base')",
   "language": "python",
   "name": "python3"
  },
  "language_info": {
   "codemirror_mode": {
    "name": "ipython",
    "version": 3
   },
   "file_extension": ".py",
   "mimetype": "text/x-python",
   "name": "python",
   "nbconvert_exporter": "python",
   "pygments_lexer": "ipython3",
   "version": "3.9.12"
  },
  "orig_nbformat": 4,
  "vscode": {
   "interpreter": {
    "hash": "263930470851f494f0ed2879c35b57985588df20f9e529b86e97dd5eb9ddc466"
   }
  }
 },
 "nbformat": 4,
 "nbformat_minor": 2
}
