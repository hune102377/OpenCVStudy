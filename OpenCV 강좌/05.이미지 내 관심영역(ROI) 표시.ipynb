{
 "cells": [
  {
   "cell_type": "markdown",
   "metadata": {},
   "source": [
    "## **05.이미지 내 관심영역(ROI) 표시**"
   ]
  },
  {
   "cell_type": "markdown",
   "metadata": {},
   "source": [
    "### **관심 영역(ROI) 표시하기**"
   ]
  },
  {
   "cell_type": "code",
   "execution_count": 6,
   "metadata": {},
   "outputs": [
    {
     "name": "stdout",
     "output_type": "stream",
     "text": [
      "(200, 200, 3)\n",
      "-1\n"
     ]
    }
   ],
   "source": [
    "# 관심영역 표시 (roi.py)\n",
    "\n",
    "import cv2\n",
    "import numpy as np\n",
    "\n",
    "img = cv2.imread('./asset/img/04.png')\n",
    "\n",
    "x=180; y=150; w=200; h=200        # roi 좌표\n",
    "roi = img[y:y+h, x:x+w]         # roi 지정        ---①\n",
    "\n",
    "print(roi.shape)                # roi shape, (50,50,3)\n",
    "cv2.rectangle(roi, (0,0), (h-1, w-1), (0,255,0)) # roi 전체에 사각형 그리기 ---②\n",
    "cv2.imshow(\"img\", img)\n",
    "\n",
    "key = cv2.waitKey(0)\n",
    "print(key)\n",
    "cv2.destroyAllWindows()"
   ]
  },
  {
   "cell_type": "code",
   "execution_count": 13,
   "metadata": {},
   "outputs": [],
   "source": [
    "# 관심영역 복제 및 새 창에 띄우기 (roi_copy.py)\n",
    "\n",
    "import cv2\n",
    "import numpy as np\n",
    "\n",
    "img = cv2.imread('./asset/img/04.png')\n",
    "\n",
    "x=180; y=150; w=200; h=200  \n",
    "roi = img[y:y+h, x:x+w]     # roi 지정\n",
    "img2 = roi.copy()           # roi 배열 복제 ---①\n",
    "\n",
    "img[y:y+h, x+w:x+w+w] = roi # 새로운 좌표에 roi 추가, 태양 2개 만들기\n",
    "cv2.rectangle(img, (x,y), (x+w+w, y+h), (0,255,0)) # 2개의 태양 영역에 사각형 표시\n",
    "\n",
    "cv2.imshow(\"img\", img)      # 원본 이미지 출력\n",
    "\n",
    "cv2.waitKey(0)\n",
    "cv2.destroyAllWindows()"
   ]
  },
  {
   "cell_type": "markdown",
   "metadata": {},
   "source": [
    "### **마우스 드래그로 관심 영역 표시하기**"
   ]
  },
  {
   "cell_type": "code",
   "execution_count": 15,
   "metadata": {},
   "outputs": [
    {
     "name": "stdout",
     "output_type": "stream",
     "text": [
      "x:533, y:16, w:196, h:160\n",
      "croped.\n",
      "x:395, y:89, w:149, h:158\n",
      "croped.\n",
      "x:198, y:150, w:152, h:154\n",
      "croped.\n",
      "x:976, y:120, w:0, h:0\n",
      "좌측 상단에서 우측 하단으로 영역을 드래그 하세요.\n",
      "x:1003, y:121, w:151, h:174\n",
      "croped.\n",
      "x:1046, y:176, w:0, h:0\n",
      "좌측 상단에서 우측 하단으로 영역을 드래그 하세요.\n",
      "x:1008, y:130, w:146, h:156\n",
      "croped.\n"
     ]
    }
   ],
   "source": [
    "# 마우스로 관심영역 지정 및 표시, 저장 (roi_crop_mouse.py)\n",
    "\n",
    "import cv2\n",
    "import numpy as np\n",
    "\n",
    "isDragging = False                      # 마우스 드래그 상태 저장 \n",
    "x0, y0, w, h = -1,-1,-1,-1              # 영역 선택 좌표 저장\n",
    "blue, red = (255,0,0),(0,0,255)         # 색상 값 \n",
    "\n",
    "def onMouse(event,x,y,flags,param):     # 마우스 이벤트 핸들 함수  ---①\n",
    "    global isDragging, x0, y0, img      # 전역변수 참조\n",
    "    if event == cv2.EVENT_LBUTTONDOWN:  # 왼쪽 마우스 버튼 다운, 드래그 시작 ---②\n",
    "        isDragging = True\n",
    "        x0 = x\n",
    "        y0 = y\n",
    "    elif event == cv2.EVENT_MOUSEMOVE:  # 마우스 움직임 ---③\n",
    "        if isDragging:                  # 드래그 진행 중\n",
    "            img_draw = img.copy()       # 사각형 그림 표현을 위한 이미지 복제\n",
    "            cv2.rectangle(img_draw, (x0, y0), (x, y), blue, 2) # 드래그 진행 영역 표시\n",
    "            cv2.imshow('img', img_draw) # 사각형 표시된 그림 화면 출력\n",
    "    elif event == cv2.EVENT_LBUTTONUP:  # 왼쪽 마우스 버튼 업 ---④\n",
    "        if isDragging:                  # 드래그 중지\n",
    "            isDragging = False          \n",
    "            w = x - x0                  # 드래그 영역 폭 계산\n",
    "            h = y - y0                  # 드래그 영역 높이 계산\n",
    "            print(\"x:%d, y:%d, w:%d, h:%d\" % (x0, y0, w, h))\n",
    "            if w > 0 and h > 0:         # 폭과 높이가 양수이면 드래그 방향이 옳음 ---⑤\n",
    "                img_draw = img.copy()   # 선택 영역에 사각형 그림을 표시할 이미지 복제\n",
    "                # 선택 영역에 빨간 사각형 표시\n",
    "                cv2.rectangle(img_draw, (x0, y0), (x, y), red, 2) \n",
    "                cv2.imshow('img', img_draw) # 빨간 사각형 그려진 이미지 화면 출력\n",
    "                roi = img[y0:y0+h, x0:x0+w] # 원본 이미지에서 선택 영영만 ROI로 지정 ---⑥\n",
    "                cv2.imshow('cropped', roi)  # ROI 지정 영역을 새창으로 표시\n",
    "                cv2.moveWindow('cropped', 0, 0) # 새창을 화면 좌측 상단에 이동\n",
    "                cv2.imwrite('./cropped.jpg', roi)   # ROI 영역만 파일로 저장 ---⑦\n",
    "                print(\"croped.\")\n",
    "            else:\n",
    "                cv2.imshow('img', img)  # 드래그 방향이 잘못된 경우 사각형 그림ㅇㅣ 없는 원본 이미지 출력\n",
    "                print(\"좌측 상단에서 우측 하단으로 영역을 드래그 하세요.\")\n",
    "\n",
    "img = cv2.imread('./asset/img/04.png')\n",
    "cv2.imshow('img', img)\n",
    "cv2.setMouseCallback('img', onMouse) # 마우스 이벤트 등록 ---⑧\n",
    "cv2.waitKey()\n",
    "cv2.destroyAllWindows()"
   ]
  },
  {
   "cell_type": "code",
   "execution_count": 21,
   "metadata": {},
   "outputs": [],
   "source": [
    "# selectROI로 관심영역 지정 및 표시, 저장 (roi_select_img.py)\n",
    "\n",
    "import cv2, numpy as np\n",
    "\n",
    "img = cv2.imread('./asset/img/04.png')\n",
    "\n",
    "x,y,w,h\t= cv2.selectROI('img', img, False)\n",
    "if w and h:\n",
    "    roi = img[y:y+h, x:x+w]\n",
    "    cv2.imshow('cropped', roi)  # ROI 지정 영역을 새창으로 표시\n",
    "    cv2.moveWindow('cropped', 0, 0) # 새창을 화면 좌측 상단에 이동\n",
    "    cv2.imwrite('./asset/img/cropped.png', roi)   # ROI 영역만 파일로 저장\n",
    "\n",
    "cv2.waitKey(0)\n",
    "cv2.destroyAllWindows()"
   ]
  }
 ],
 "metadata": {
  "kernelspec": {
   "display_name": "Python 3.8.13 ('y5')",
   "language": "python",
   "name": "python3"
  },
  "language_info": {
   "codemirror_mode": {
    "name": "ipython",
    "version": 3
   },
   "file_extension": ".py",
   "mimetype": "text/x-python",
   "name": "python",
   "nbconvert_exporter": "python",
   "pygments_lexer": "ipython3",
   "version": "3.8.13"
  },
  "orig_nbformat": 4,
  "vscode": {
   "interpreter": {
    "hash": "ccfad01d9f25d4f305777509c950583b1c2e09887f9e2158e7050cdc2b199c7a"
   }
  }
 },
 "nbformat": 4,
 "nbformat_minor": 2
}
