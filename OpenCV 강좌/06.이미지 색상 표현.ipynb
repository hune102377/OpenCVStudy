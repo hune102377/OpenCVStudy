{
 "cells": [
  {
   "cell_type": "markdown",
   "metadata": {},
   "source": [
    "## **06. 이미지 색상 표현**"
   ]
  },
  {
   "cell_type": "markdown",
   "metadata": {},
   "source": [
    "### **영상 처리와 컴퓨터 비전**"
   ]
  },
  {
   "cell_type": "markdown",
   "metadata": {},
   "source": [
    "**BGRA**"
   ]
  },
  {
   "cell_type": "code",
   "execution_count": 3,
   "metadata": {},
   "outputs": [
    {
     "name": "stdout",
     "output_type": "stream",
     "text": [
      "default (512, 512, 3) color (512, 512, 3) unchanged (512, 512, 4)\n"
     ]
    }
   ],
   "source": [
    "# BGR, BGRA, Ahlpha 채널 (rgba.py)\n",
    "\n",
    "import cv2\n",
    "import numpy as np\n",
    "\n",
    "# 기본 값 옵션\n",
    "img = cv2.imread('./asset/img/05.png')   \n",
    "# IMREAD_COLOR 옵션                   \n",
    "bgr = cv2.imread('./asset/img/05.png', cv2.IMREAD_COLOR)    \n",
    "# IMREAD_UNCHANGED 옵션\n",
    "bgra = cv2.imread('./asset/img/05.png', cv2.IMREAD_UNCHANGED) \n",
    "# 각 옵션에 따른 이미지 shape\n",
    "print(\"default\", img.shape, \"color\", bgr.shape, \"unchanged\", bgra.shape) \n",
    "\n",
    "cv2.imshow('bgr', bgr)\n",
    "cv2.imshow('bgra', bgra)\n",
    "cv2.imshow('alpha', bgra[:,:,3])  # 알파 채널만 표시\n",
    "cv2.waitKey(0)\n",
    "cv2.destroyAllWindows()"
   ]
  },
  {
   "cell_type": "markdown",
   "metadata": {},
   "source": [
    "**BGR 색상 이미지를 회색조 이미지로 변환하기**"
   ]
  },
  {
   "cell_type": "code",
   "execution_count": 6,
   "metadata": {},
   "outputs": [],
   "source": [
    "# BGR 색상 이미지를 회색조 이미지로 변환 (bgr2gray.py)\n",
    "\n",
    "import cv2\n",
    "import numpy as np\n",
    "\n",
    "img = cv2.imread('./asset/img/01.png')\n",
    "\n",
    "img2 = img.astype(np.uint16)                # dtype 변경 ---①\n",
    "b,g,r = cv2.split(img2)                     # 채널 별로 분리 ---②\n",
    "#b,g,r = img2[:,:,0], img2[:,:,1], img2[:,:,2]\n",
    "gray1 = ((b + g + r)/3).astype(np.uint8)    # 평균 값 연산후 dtype 변경 ---③\n",
    "\n",
    "gray2 = cv2.cvtColor(img, cv2.COLOR_BGR2GRAY) # BGR을 그레이 스케일로 변경 ---④\n",
    "cv2.imshow('original', img)\n",
    "cv2.imshow('gray1', gray1)\n",
    "cv2.imshow('gray2', gray2)\n",
    "\n",
    "cv2.waitKey(0)\n",
    "cv2.destroyAllWindows()"
   ]
  },
  {
   "cell_type": "markdown",
   "metadata": {},
   "source": [
    "**HSV**"
   ]
  },
  {
   "cell_type": "code",
   "execution_count": 7,
   "metadata": {},
   "outputs": [
    {
     "name": "stdout",
     "output_type": "stream",
     "text": [
      "red: [[[  0 255 255]]]\n",
      "green: [[[ 60 255 255]]]\n",
      "blue [[[120 255 255]]]\n",
      "yellow [[[ 30 255 255]]]\n"
     ]
    }
   ],
   "source": [
    "# BGR을 HSV로 변환 (bgr2hsv.py)\n",
    "\n",
    "import cv2\n",
    "import numpy as np\n",
    "\n",
    "#---① BGR 컬러 스페이스로 원색 픽셀 생성\n",
    "red_bgr = np.array([[[0,0,255]]], dtype=np.uint8)   # 빨강 값만 갖는 픽셀\n",
    "green_bgr = np.array([[[0,255,0]]], dtype=np.uint8) # 초록 값만 갖는 픽셀\n",
    "blue_bgr = np.array([[[255,0,0]]], dtype=np.uint8)  # 파랑 값만 갖는 픽셀\n",
    "yellow_bgr = np.array([[[0,255,255]]], dtype=np.uint8) # 노랑 값만 갖는 픽셀\n",
    "\n",
    "#---② BGR 컬러 스페이스를 HSV 컬러 스페이스로 변환\n",
    "red_hsv = cv2.cvtColor(red_bgr, cv2.COLOR_BGR2HSV);\n",
    "green_hsv = cv2.cvtColor(green_bgr, cv2.COLOR_BGR2HSV);\n",
    "blue_hsv = cv2.cvtColor(blue_bgr, cv2.COLOR_BGR2HSV);\n",
    "yellow_hsv = cv2.cvtColor(yellow_bgr, cv2.COLOR_BGR2HSV);\n",
    "\n",
    "#---③ HSV로 변환한 픽셀 출력\n",
    "print(\"red:\",red_hsv)\n",
    "print(\"green:\", green_hsv)\n",
    "print(\"blue\", blue_hsv)\n",
    "print(\"yellow\", yellow_hsv)"
   ]
  },
  {
   "cell_type": "markdown",
   "metadata": {},
   "source": [
    "**YUV, YCbCr 방식**"
   ]
  },
  {
   "cell_type": "code",
   "execution_count": 8,
   "metadata": {},
   "outputs": [
    {
     "name": "stdout",
     "output_type": "stream",
     "text": [
      "dark: [[[  0 128 128]]]\n",
      "middle: [[[127 128 128]]]\n",
      "bright [[[255 128 128]]]\n"
     ]
    }
   ],
   "source": [
    "# BGR 값을 YUV로 변환 (bgr2yuv.py)\n",
    "\n",
    "import cv2\n",
    "import numpy as np\n",
    "\n",
    "#---① BGR 컬러 스페이스로 3가지 밝기의 픽셀 생성\n",
    "dark = np.array([[[0,0,0]]], dtype=np.uint8)        # 3 채널 모두 0인 가장 어두운 픽셀\n",
    "middle = np.array([[[127,127,127]]], dtype=np.uint8) # 3 채널 모두 127인 중간 밝기 픽셀\n",
    "bright = np.array([[[255,255,255]]], dtype=np.uint8) # 3 채널 모두 255인 가장 밝은 픽셀\n",
    "\n",
    "#---② BGR 컬러 스페이스를 YUV 컬러 스페이스로 변환\n",
    "dark_yuv = cv2.cvtColor(dark, cv2.COLOR_BGR2YUV)\n",
    "middle_yuv = cv2.cvtColor(middle, cv2.COLOR_BGR2YUV)\n",
    "bright_yuv = cv2.cvtColor(bright, cv2.COLOR_BGR2YUV)\n",
    "\n",
    "#---③ YUV로 변환한 픽셀 출력\n",
    "print(\"dark:\",dark_yuv)\n",
    "print(\"middle:\", middle_yuv)\n",
    "print(\"bright\", bright_yuv)"
   ]
  },
  {
   "cell_type": "markdown",
   "metadata": {},
   "source": [
    "---"
   ]
  },
  {
   "cell_type": "markdown",
   "metadata": {},
   "source": [
    "**OpenCV에서 색상을 표현하는 방식**\n",
    " - BGR 방식 : 전통적인 RGB 방식과 유사하며 그 순서만 반대\n",
    " - BGRA 방식 : BGR 방식에서 투명도를 나타내는 A(알파) 값이 추가된 방식\n",
    " - HSV 방식 : 색조, 채도, 명도를 이용해서 색상을 표현하는 방식\n",
    " - YUV 방식 : 밝기에 더 신경을 써야 하는 경우에 사용"
   ]
  },
  {
   "cell_type": "markdown",
   "metadata": {},
   "source": [
    "---"
   ]
  }
 ],
 "metadata": {
  "kernelspec": {
   "display_name": "Python 3.8.13 ('y5')",
   "language": "python",
   "name": "python3"
  },
  "language_info": {
   "codemirror_mode": {
    "name": "ipython",
    "version": 3
   },
   "file_extension": ".py",
   "mimetype": "text/x-python",
   "name": "python",
   "nbconvert_exporter": "python",
   "pygments_lexer": "ipython3",
   "version": "3.8.13"
  },
  "orig_nbformat": 4,
  "vscode": {
   "interpreter": {
    "hash": "ccfad01d9f25d4f305777509c950583b1c2e09887f9e2158e7050cdc2b199c7a"
   }
  }
 },
 "nbformat": 4,
 "nbformat_minor": 2
}
