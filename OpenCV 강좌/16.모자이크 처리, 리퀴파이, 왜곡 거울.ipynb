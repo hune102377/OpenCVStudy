{
 "cells": [
  {
   "cell_type": "markdown",
   "metadata": {},
   "source": [
    "## **16. 모자이크 처리, 리퀴파이, 왜곡 거울**"
   ]
  },
  {
   "cell_type": "markdown",
   "metadata": {},
   "source": [
    "### **모자이크 처리**"
   ]
  },
  {
   "cell_type": "code",
   "execution_count": 6,
   "metadata": {},
   "outputs": [],
   "source": [
    "# 모자이크 처리 (workshop_mosaic.py)\n",
    "\n",
    "import cv2\n",
    "\n",
    "rate = 6               # 모자이크에 사용할 축소 비율 (1/rate)\n",
    "win_title = 'mosaic'    # 창 제목\n",
    "img = cv2.imread('./asset/img/16.png')    # 이미지 읽기\n",
    "\n",
    "while True:\n",
    "    x,y,w,h = cv2.selectROI(win_title, img, False) # 관심영역 선택\n",
    "    if w and h:\n",
    "        roi = img[y:y+h, x:x+w]   # 관심영역 지정\n",
    "        roi = cv2.resize(roi, (w//rate, h//rate)) # 1/rate 비율로 축소\n",
    "        # 원래 크기로 확대\n",
    "        roi = cv2.resize(roi, (w,h), interpolation=cv2.INTER_AREA)  \n",
    "        img[y:y+h, x:x+w] = roi   # 원본 이미지에 적용\n",
    "        cv2.imshow(win_title, img)\n",
    "    else:\n",
    "        break\n",
    "cv2.destroyAllWindows()"
   ]
  },
  {
   "cell_type": "markdown",
   "metadata": {},
   "source": [
    "### **리퀴파이 도구**"
   ]
  },
  {
   "cell_type": "code",
   "execution_count": 13,
   "metadata": {},
   "outputs": [
    {
     "ename": "KeyboardInterrupt",
     "evalue": "",
     "output_type": "error",
     "traceback": [
      "\u001b[1;31m---------------------------------------------------------------------------\u001b[0m",
      "\u001b[1;31mKeyboardInterrupt\u001b[0m                         Traceback (most recent call last)",
      "Cell \u001b[1;32mIn [13], line 83\u001b[0m\n\u001b[0;32m     81\u001b[0m cv2\u001b[39m.\u001b[39mimshow(win_title, img)\n\u001b[0;32m     82\u001b[0m \u001b[39mwhile\u001b[39;00m \u001b[39mTrue\u001b[39;00m:\n\u001b[1;32m---> 83\u001b[0m     key \u001b[39m=\u001b[39m cv2\u001b[39m.\u001b[39;49mwaitKey(\u001b[39m1\u001b[39;49m)\n\u001b[0;32m     84\u001b[0m     \u001b[39mif\u001b[39;00m key \u001b[39m&\u001b[39m \u001b[39m0xFF\u001b[39m \u001b[39m==\u001b[39m \u001b[39m27\u001b[39m:\n\u001b[0;32m     85\u001b[0m         \u001b[39mbreak\u001b[39;00m\n",
      "\u001b[1;31mKeyboardInterrupt\u001b[0m: "
     ]
    }
   ],
   "source": [
    "# 포토샵 리퀴파이 도구 (workshop_liquify_tool.py)\n",
    "\n",
    "import cv2\n",
    "import numpy as np\n",
    "\n",
    "win_title = 'Liquify'   # 창 이름\n",
    "half = 5               # 관심 영역 절반 크기\n",
    "isDragging = False      # 드래그 여부 플래그\n",
    "\n",
    "# 리퀴파이 함수\n",
    "def liquify(img, cx1,cy1, cx2,cy2) :\n",
    "    # 대상 영역 좌표와 크기 설정\n",
    "    x, y, w, h = cx1-half, cy1-half, half*2, half*2\n",
    "    # 관심 영역 설정\n",
    "    roi = img[y:y+h, x:x+w].copy()\n",
    "    out = roi.copy()\n",
    "\n",
    "    # 관심영역 기준으로 좌표 재 설정\n",
    "    offset_cx1,offset_cy1 = cx1-x, cy1-y\n",
    "    offset_cx2,offset_cy2 = cx2-x, cy2-y\n",
    "    \n",
    "    # 변환 이전 4개의 삼각형 좌표\n",
    "    tri1 = [[ (0,0), (w, 0), (offset_cx1, offset_cy1)], # 상,top\n",
    "            [ [0,0], [0, h], [offset_cx1, offset_cy1]], # 좌,left\n",
    "            [ [w, 0], [offset_cx1, offset_cy1], [w, h]], # 우, right\n",
    "            [ [0, h], [offset_cx1, offset_cy1], [w, h]]] # 하, bottom\n",
    "\n",
    "    # 변환 이후 4개의 삼각형 좌표\n",
    "    tri2 = [[ [0,0], [w,0], [offset_cx2, offset_cy2]], # 상, top\n",
    "            [ [0,0], [0, h], [offset_cx2, offset_cy2]], # 좌, left\n",
    "            [ [w,0], [offset_cx2, offset_cy2], [w, h]], # 우, right\n",
    "            [ [0,h], [offset_cx2, offset_cy2], [w, h]]] # 하, bottom\n",
    "\n",
    "    \n",
    "    for i in range(4):\n",
    "        # 각각의 삼각형 좌표에 대해 어핀 변환 적용\n",
    "        matrix = cv2.getAffineTransform( np.float32(tri1[i]), \\\n",
    "                                         np.float32(tri2[i]))\n",
    "        warped = cv2.warpAffine( roi.copy(), matrix, (w, h), \\\n",
    "            None, flags=cv2.INTER_LINEAR, borderMode=cv2.BORDER_REFLECT_101)\n",
    "        # 삼각형 모양의 마스크 생성\n",
    "        mask = np.zeros((h, w), dtype = np.uint8)\n",
    "        cv2.fillConvexPoly(mask, np.int32(tri2[i]), (255,255,255))\n",
    "        \n",
    "        # 마스킹 후 합성\n",
    "        warped = cv2.bitwise_and(warped, warped, mask=mask)\n",
    "        out = cv2.bitwise_and(out, out, mask=cv2.bitwise_not(mask))\n",
    "        out = out + warped\n",
    "\n",
    "    # 관심 영역을 원본 영상에 합성\n",
    "    img[y:y+h, x:x+w] = out\n",
    "    return img \n",
    "\n",
    "# 마우스 이벤트 핸들 함수\n",
    "def onMouse(event,x,y,flags,param):     \n",
    "    global cx1, cy1, isDragging, img      # 전역변수 참조\n",
    "    # 마우스 중심 점을 기준으로 대상 영역 따라다니기\n",
    "    if event == cv2.EVENT_MOUSEMOVE:  \n",
    "        if not isDragging :\n",
    "            img_draw = img.copy()       \n",
    "            # 드래그 영역 표시\n",
    "            cv2.rectangle(img_draw, (x-half, y-half), \\\n",
    "                    (x+half, y+half), (0,255,0)) \n",
    "            cv2.imshow(win_title, img_draw) # 사각형 표시된 그림 화면 출력\n",
    "    elif event == cv2.EVENT_LBUTTONDOWN :   \n",
    "        isDragging = True                   # 드래그 시작\n",
    "        cx1, cy1 = x, y                     # 드래그 시작된 원래의 위치 좌표 저장\n",
    "    elif event == cv2.EVENT_LBUTTONUP :\n",
    "        if isDragging:\n",
    "            isDragging = False              # 드래그 끝\n",
    "            # 드래그 시작 좌표와 끝난 좌표로 리퀴파이 적용 함수 호출\n",
    "            liquify(img, cx1, cy1, x, y)    \n",
    "            cv2.imshow(win_title, img)\n",
    "\n",
    "if __name__ == '__main__' :\n",
    "    img = cv2.imread(\"./asset/img/16_02.jpg\")\n",
    "    h, w = img.shape[:2]\n",
    "\n",
    "    cv2.namedWindow(win_title)\n",
    "    cv2.setMouseCallback(win_title, onMouse) \n",
    "    cv2.imshow(win_title, img)\n",
    "    while True:\n",
    "        key = cv2.waitKey(1)\n",
    "        if key & 0xFF == 27:\n",
    "            break\n",
    "    cv2.destroyAllWindows()"
   ]
  }
 ],
 "metadata": {
  "kernelspec": {
   "display_name": "Python 3.8.13 ('y5')",
   "language": "python",
   "name": "python3"
  },
  "language_info": {
   "codemirror_mode": {
    "name": "ipython",
    "version": 3
   },
   "file_extension": ".py",
   "mimetype": "text/x-python",
   "name": "python",
   "nbconvert_exporter": "python",
   "pygments_lexer": "ipython3",
   "version": "3.8.13"
  },
  "orig_nbformat": 4,
  "vscode": {
   "interpreter": {
    "hash": "ccfad01d9f25d4f305777509c950583b1c2e09887f9e2158e7050cdc2b199c7a"
   }
  }
 },
 "nbformat": 4,
 "nbformat_minor": 2
}
