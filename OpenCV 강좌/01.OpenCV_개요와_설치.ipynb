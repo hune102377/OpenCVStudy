{
 "cells": [
  {
   "cell_type": "markdown",
   "metadata": {},
   "source": [
    "## **01. OpenCV 개요와 설치**"
   ]
  },
  {
   "cell_type": "markdown",
   "metadata": {},
   "source": [
    "참고 자료 : https://bkshin.tistory.com/entry/OpenCV-1-%ED%8C%8C%EC%9D%B4%EC%8D%AC%EC%9C%BC%EB%A1%9C-%EB%A7%8C%EB%93%9C%EB%8A%94-OpenCV-%ED%94%84%EB%A1%9C%EC%A0%9D%ED%8A%B8\n",
    "\n",
    "참고 서적 : 파이썬으로 만드는 OpenCV 프로젝트(이세우 저)"
   ]
  },
  {
   "cell_type": "markdown",
   "metadata": {},
   "source": [
    "### **영상 처리와 컴퓨터 비전**"
   ]
  },
  {
   "cell_type": "markdown",
   "metadata": {},
   "source": [
    "- 영상 처리(image processing)는 영상에 여러 연산을 가해서 원하는 결과를 새롭게 얻어내는 과정\n",
    "\n",
    "- 화질 개선, 영상 복원, 영상 분할 등  \n",
    "\n",
    "- 컴퓨터 비전은 영상 처리를 포함하는 포괄적인 개념 영상 처리가 원본 영상을 사용자가 원하는 새로운 영상으로 바꿔주는 기술이라면, 컴퓨터 비전은 영상에서 의미 있는 정보를 추출해 주는 기술. 예를 들면, 객체 검출(Object Detection), 객체 추적(Object Tracking), 객체 인식(Object Recognition)\n",
    "\n",
    "- 일반적으로 컴퓨터 비전을 하기 전에 영상 처리를 하는 경우가 많음. 컴퓨터 비전 작업은 영상 처리를 통해 원본 영상을 원하는 새로운 영상으로 바꿔준 뒤, 컴퓨터 비전으로 원하는 정보를 얻어내는 과정이기 때문."
   ]
  },
  {
   "cell_type": "markdown",
   "metadata": {},
   "source": [
    "### **OpenCV**"
   ]
  },
  {
   "cell_type": "markdown",
   "metadata": {},
   "source": [
    "Open Source Computer Vision Library  \n",
    "영상 처리와 컴퓨터 비전 분야의 가장 대표적인 라이브러리"
   ]
  },
  {
   "cell_type": "markdown",
   "metadata": {},
   "source": [
    "### **OpenCV 설치**\n",
    "\n",
    "Anaconda Prompt에서 실행"
   ]
  },
  {
   "cell_type": "code",
   "execution_count": 1,
   "metadata": {},
   "outputs": [],
   "source": [
    "# # Anaconda 환경에서 가상환경 만들기\n",
    "# conda create -n opencv python=3.6\n",
    "\n",
    "# # 가상환경 실행\n",
    "# conda activate opencv\n",
    "\n",
    "# # 환경 안에 원하는 버전의 모듈 설치\n",
    "# # numpy 1.14 버전 설치\n",
    "# pip3 install numpy==1.14.0\n",
    "\n",
    "# # 엑스트라(contrib)를 포함한 OpenCV-Python 모듈 3.4.1 설치\n",
    "# pip3 install opencv-contrib-python==3.4.1.15\n",
    "\n",
    "# # matplotlib 2.2.2 버전 설치\n",
    "# pip3 install matplotlib==2.2.2"
   ]
  },
  {
   "cell_type": "markdown",
   "metadata": {},
   "source": [
    "모듈 확인  \n",
    "python에서 실행"
   ]
  },
  {
   "cell_type": "code",
   "execution_count": 2,
   "metadata": {},
   "outputs": [],
   "source": [
    "# import numpy\n",
    "# numpy.__version__\n",
    "\n",
    "# import cv2\n",
    "# cv2.__version__\n",
    "\n",
    "# import matplotlib\n",
    "# matplotlib.__version__"
   ]
  }
 ],
 "metadata": {
  "kernelspec": {
   "display_name": "Python 3.8.13 ('y5')",
   "language": "python",
   "name": "python3"
  },
  "language_info": {
   "codemirror_mode": {
    "name": "ipython",
    "version": 3
   },
   "file_extension": ".py",
   "mimetype": "text/x-python",
   "name": "python",
   "nbconvert_exporter": "python",
   "pygments_lexer": "ipython3",
   "version": "3.8.13"
  },
  "orig_nbformat": 4,
  "vscode": {
   "interpreter": {
    "hash": "ccfad01d9f25d4f305777509c950583b1c2e09887f9e2158e7050cdc2b199c7a"
   }
  }
 },
 "nbformat": 4,
 "nbformat_minor": 2
}
