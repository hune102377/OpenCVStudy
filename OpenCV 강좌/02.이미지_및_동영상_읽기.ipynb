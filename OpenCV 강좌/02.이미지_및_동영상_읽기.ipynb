{
 "cells": [
  {
   "cell_type": "markdown",
   "metadata": {},
   "source": [
    "## **02. OpenCV 개요와 설치**"
   ]
  },
  {
   "cell_type": "markdown",
   "metadata": {},
   "source": [
    "\n",
    "### **영상 처리와 컴퓨터 비전**"
   ]
  }
 ],
 "metadata": {
  "kernelspec": {
   "display_name": "Python 3.8.13 ('y5')",
   "language": "python",
   "name": "python3"
  },
  "language_info": {
   "name": "python",
   "version": "3.8.13"
  },
  "orig_nbformat": 4,
  "vscode": {
   "interpreter": {
    "hash": "ccfad01d9f25d4f305777509c950583b1c2e09887f9e2158e7050cdc2b199c7a"
   }
  }
 },
 "nbformat": 4,
 "nbformat_minor": 2
}
