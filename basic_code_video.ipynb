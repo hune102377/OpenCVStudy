{
 "cells": [
  {
   "cell_type": "markdown",
   "metadata": {},
   "source": [
    "https://deep-eye.tistory.com/46"
   ]
  },
  {
   "cell_type": "code",
   "execution_count": 14,
   "metadata": {},
   "outputs": [],
   "source": [
    "# import necessary packages\n",
    "import cvlib as cv\n",
    "import cv2"
   ]
  },
  {
   "cell_type": "code",
   "execution_count": 15,
   "metadata": {},
   "outputs": [],
   "source": [
    "# 인터뷰 영상 , 겁나잘됨\n",
    "video_file = \"../asset/input/mov/mov_interview.mp4\"\n",
    "# # 길거리 영상, 겁나 안됨 yolo5 로 해보자\n",
    "# video_file = \"../asset/input/mov/mov_street.mp4\"\n",
    "\n",
    "## 동영상 불러오기\n",
    "cap = cv2.VideoCapture(video_file)"
   ]
  },
  {
   "cell_type": "code",
   "execution_count": 24,
   "metadata": {},
   "outputs": [],
   "source": [
    "## 동영상 불러오기\n",
    "cap = cv2.VideoCapture(video_file)\n",
    "\n",
    "while (cap.isOpened()) :\n",
    "    ret, frame = cap.read()\n",
    "\n",
    "    # 얼굴 감지\n",
    "    ## 후에 YOLOv5로 수정\n",
    "    face, confidence = cv.detect_face(frame)\n",
    "\n",
    "    # 모자이크 처리\n",
    "    for idx, f in enumerate(face):\n",
    "        (startX, startY) = f[0], f[1]\n",
    "        (endX, endY) = f[2], f[3]\n",
    "        '모자이크 효과 주기: 얼굴 부분을 줄였다가 다시 원크기로 복구시키면 모자이크처럼 됨.'\n",
    "        face_region = frame[startY:endY, startX:endX]\n",
    "        M = face_region.shape[0]\n",
    "        N = face_region.shape[1]\n",
    "        try :\n",
    "            ## 성별 및 나이를 감지해주는 코드\n",
    "            ## gender detection (성별 검출), 처음 실행 시 다운로드 필요\n",
    "            (label, confidence) = cv.detect_gender(frame)\n",
    "            \n",
    "            ## 얼굴 주위에 성별에 따른 박스를 그려주는 코드\n",
    "            if label == 'male' :\n",
    "                label_color = (255, 0, 0)\n",
    "                cv2.rectangle(frame, (startX, startY), (endX, endY), label_color, 5)\n",
    "            else :\n",
    "                label_color = (0, 0, 255)\n",
    "                cv2.rectangle(frame, (startX, startY), (endX, endY), label_color, 5)\n",
    "\n",
    "            # fx와 fy값을 얼마로 정하냐에 따라 모자이크의 크기가 달라짐(작을수록 커지고 0.1만되도 잘 보이니까 그 이하로 잡을 것)\n",
    "            face_region = cv2.resize(face_region, None, fx=0.06, fy=0.06, interpolation=cv2.INTER_AREA)\n",
    "            face_region = cv2.resize(face_region, (N, M), interpolation=cv2.INTER_AREA)\n",
    "            frame[startY:endY, startX:endX] = face_region\n",
    "        except:\n",
    "            print(\"*\"*100)\n",
    "            print(M,N)\n",
    "            pass\n",
    "\n",
    "    if ret :\n",
    "        cv2.imshow('frame', frame)\n",
    "        cv2.waitKey(3) # 1000/waitkey = FPS\n",
    "\n",
    "        if cv2.waitKey(1) & 0xFF == ord('q') : break\n",
    "    else :\n",
    "        print(\"Fail to read frame!\")\n",
    "        break\n",
    "\n",
    "cap.release()\n",
    "cv2.destroyAllWindows()"
   ]
  }
 ],
 "metadata": {
  "kernelspec": {
   "display_name": "Python 3.8.13 ('y5')",
   "language": "python",
   "name": "python3"
  },
  "language_info": {
   "codemirror_mode": {
    "name": "ipython",
    "version": 3
   },
   "file_extension": ".py",
   "mimetype": "text/x-python",
   "name": "python",
   "nbconvert_exporter": "python",
   "pygments_lexer": "ipython3",
   "version": "3.8.13"
  },
  "orig_nbformat": 4,
  "vscode": {
   "interpreter": {
    "hash": "ccfad01d9f25d4f305777509c950583b1c2e09887f9e2158e7050cdc2b199c7a"
   }
  }
 },
 "nbformat": 4,
 "nbformat_minor": 2
}
